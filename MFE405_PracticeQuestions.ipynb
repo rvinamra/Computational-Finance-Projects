{
 "cells": [
  {
   "cell_type": "code",
   "execution_count": 1,
   "metadata": {},
   "outputs": [],
   "source": [
    "import pandas as pd\n",
    "import numpy as np\n",
    "import scipy.stats\n",
    "import matplotlib.pyplot as plt\n",
    "import warnings\n",
    "warnings.filterwarnings(\"ignore\")"
   ]
  },
  {
   "attachments": {},
   "cell_type": "markdown",
   "metadata": {},
   "source": [
    "# Question 1"
   ]
  },
  {
   "cell_type": "code",
   "execution_count": 2,
   "metadata": {},
   "outputs": [],
   "source": [
    "def fixed_strike_asian_call(T=1,K=95,rho=-0.7,r=0.07,S0=100,V0=0.08411,sig=0.2,a=0.4,b=-4,n=100_000):\n",
    "    m = int(np.sqrt(n))\n",
    "    dt = T/m\n",
    "\n",
    "    np.random.seed(420)\n",
    "    mean = [0,0]\n",
    "    cov = [[1,rho],[rho,1]]\n",
    "    W1, W2 = np.random.multivariate_normal(mean,cov,(m,n)).T\n",
    "\n",
    "    S = np.zeros((n,m+1))\n",
    "    V = np.zeros((n,m+1))\n",
    "\n",
    "    S[:,0] += S0\n",
    "    V[:,0] += V0\n",
    "    \n",
    "    for i,_ in enumerate(np.linspace(dt,T,m)):\n",
    "        V[:,i+1] = (a + b * np.where(V[:,i]>0, V[:,i], 0)) * dt + sig * np.sqrt(np.where(V[:,i]>0, V[:,i], 0) * dt) * W2[:,i] \\\n",
    "            + V[:,i]\n",
    "        S[:,i+1] = r * S[:,i] * dt + np.sqrt(np.where(V[:,i]>0, V[:,i], 0) * dt) * S[:,i] * W1[:,i] + S[:,i]\n",
    "\n",
    "    A1 = S.mean(axis=1)\n",
    "    A2 = np.sqrt((S**2).mean(axis=1))\n",
    "\n",
    "    c1 = np.maximum(A1 - K, 0)\n",
    "    c1 = np.exp(-r * T) * c1.mean()\n",
    "\n",
    "    c2 = np.maximum(A2 - K, 0)\n",
    "    c2 = np.exp(-r * T) * c2.mean()\n",
    "\n",
    "    return c1,c2"
   ]
  },
  {
   "cell_type": "code",
   "execution_count": 3,
   "metadata": {},
   "outputs": [],
   "source": [
    "def asian_call_deltas(eps=0.1,T=1,K=95,rho=-0.7,r=0.07,S0=100,V0=0.08411,sig=0.2,a=0.4,b=-4,n=10_000):\n",
    "    c1_plus,c2_plus = fixed_strike_asian_call(T,K,rho,r,S0+eps,V0,sig,a,b,n)\n",
    "    c1_minus,c2_minus = fixed_strike_asian_call(T,K,rho,r,S0-eps,V0,sig,a,b,n)\n",
    "\n",
    "    delta1 = (c1_plus - c1_minus) / 2 / eps\n",
    "    delta2 = (c2_plus - c2_minus) / 2 / eps\n",
    "\n",
    "    return delta1,delta2"
   ]
  },
  {
   "cell_type": "code",
   "execution_count": 4,
   "metadata": {},
   "outputs": [],
   "source": [
    "data = []\n",
    "for K in [95,105]:\n",
    "    for T in [1,0.5,0.05]:\n",
    "        res = {'K': K, 'T': T}\n",
    "        c1,c2 = fixed_strike_asian_call(T,K)\n",
    "        delta1, delta2 = asian_call_deltas(T=T,K=K)\n",
    "        res['c1'] = c1\n",
    "        res['delta1'] = delta1\n",
    "        res['c2'] = c2\n",
    "        res['delta2'] = delta2\n",
    "        data.append(res)\n",
    "df = pd.DataFrame(data)\n",
    "df.set_index(['K','T'],inplace=True)"
   ]
  },
  {
   "cell_type": "code",
   "execution_count": 5,
   "metadata": {},
   "outputs": [
    {
     "data": {
      "text/plain": [
       "'\\\\begin{tabular}{llrrrr}\\n\\\\toprule\\n &  & c1 & delta1 & c2 & delta2 \\\\\\\\\\nK & T &  &  &  &  \\\\\\\\\\n\\\\midrule\\n\\\\multirow[t]{3}{*}{95} & 1.000000 & 11.242429 & 0.700359 & 11.770088 & 0.714202 \\\\\\\\\\n & 0.500000 & 8.613678 & 0.726857 & 8.867034 & 0.735337 \\\\\\\\\\n & 0.050000 & 5.278422 & 0.918823 & 5.308142 & 0.921078 \\\\\\\\\\n\\\\cline{1-6}\\n\\\\multirow[t]{3}{*}{105} & 1.000000 & 6.109117 & 0.499632 & 6.536802 & 0.513357 \\\\\\\\\\n & 0.500000 & 3.395976 & 0.424650 & 3.576704 & 0.434284 \\\\\\\\\\n & 0.050000 & 0.179706 & 0.110053 & 0.186539 & 0.112382 \\\\\\\\\\n\\\\cline{1-6}\\n\\\\bottomrule\\n\\\\end{tabular}\\n'"
      ]
     },
     "execution_count": 5,
     "metadata": {},
     "output_type": "execute_result"
    }
   ],
   "source": [
    "# df.to_latex()"
   ]
  },
  {
   "cell_type": "code",
   "execution_count": 21,
   "metadata": {},
   "outputs": [
    {
     "name": "stdout",
     "output_type": "stream",
     "text": [
      "                 c1    delta1         c2    delta2\n",
      "K   T                                             \n",
      "95  1.00  11.274738  0.701549  11.804440  0.715360\n",
      "    0.50   8.639931  0.727409   8.894698  0.737322\n",
      "    0.05   5.289585  0.922788   5.319323  0.925045\n",
      "105 1.00   6.118184  0.494503   6.547427  0.509046\n",
      "    0.50   3.405057  0.423042   3.586593  0.431741\n",
      "    0.05   0.181645  0.107991   0.188547  0.110222\n"
     ]
    }
   ],
   "source": [
    "import numpy as np\n",
    "import pandas as pd\n",
    "\n",
    "def fixed_strike_asian_call(T=1, K=95, rho=-0.7, r=0.07, S0=100, V0=0.08411, sig=0.2, a=0.4, b=-4, n=100_000):\n",
    "    m = 100  # Set the number of time steps explicitly\n",
    "    dt = T / m  # Time step size\n",
    "\n",
    "    np.random.seed(420)\n",
    "    mean = [0, 0]\n",
    "    cov = [[1, rho], [rho, 1]]\n",
    "    W = np.random.multivariate_normal(mean, cov, (n, m))\n",
    "    W1, W2 = W[:, :, 0], W[:, :, 1]  # Extract W1 and W2 from the generated random numbers\n",
    "\n",
    "    S = np.zeros((n, m+1))\n",
    "    V = np.zeros((n, m+1))\n",
    "\n",
    "    S[:, 0] = S0\n",
    "    V[:, 0] = V0\n",
    "    \n",
    "    for i in range(m):\n",
    "        V[:, i+1] = (a + b * np.maximum(V[:, i], 0)) * dt + sig * np.sqrt(np.maximum(V[:, i], 0) * dt) * W2[:, i] + V[:, i]\n",
    "        S[:, i+1] = r * S[:, i] * dt + np.sqrt(np.maximum(V[:, i], 0) * dt) * S[:, i] * W1[:, i] + S[:, i]\n",
    "\n",
    "    A1 = S.mean(axis=1)\n",
    "    A2 = np.sqrt((S**2).mean(axis=1))\n",
    "\n",
    "    c1 = np.maximum(A1 - K, 0)\n",
    "    c1 = np.exp(-r * T) * c1.mean()\n",
    "\n",
    "    c2 = np.maximum(A2 - K, 0)\n",
    "    c2 = np.exp(-r * T) * c2.mean()\n",
    "\n",
    "    return c1, c2\n",
    "\n",
    "def asian_call_deltas(eps=0.1, T=1, K=95, rho=-0.7, r=0.07, S0=100, V0=0.08411, sig=0.2, a=0.4, b=-4, n=10_000):\n",
    "    c1_plus, c2_plus = fixed_strike_asian_call(T, K, rho, r, S0 + eps, V0, sig, a, b, n)\n",
    "    c1_minus, c2_minus = fixed_strike_asian_call(T, K, rho, r, S0 - eps, V0, sig, a, b, n)\n",
    "\n",
    "    delta1 = (c1_plus - c1_minus) / (2 * eps)\n",
    "    delta2 = (c2_plus - c2_minus) / (2 * eps)\n",
    "\n",
    "    return delta1, delta2\n",
    "\n",
    "data = []\n",
    "for K in [95, 105]:\n",
    "    for T in [1, 0.5, 0.05]:\n",
    "        res = {'K': K, 'T': T}\n",
    "        c1, c2 = fixed_strike_asian_call(T, K)\n",
    "        delta1, delta2 = asian_call_deltas(T=T, K=K)\n",
    "        res['c1'] = c1\n",
    "        res['delta1'] = delta1\n",
    "        res['c2'] = c2\n",
    "        res['delta2'] = delta2\n",
    "        data.append(res)\n",
    "\n",
    "df = pd.DataFrame(data)\n",
    "df.set_index(['K', 'T'], inplace=True)\n",
    "\n",
    "# Display the resulting DataFrame\n",
    "print(df)"
   ]
  },
  {
   "attachments": {},
   "cell_type": "markdown",
   "metadata": {},
   "source": [
    "# Question 2"
   ]
  },
  {
   "cell_type": "code",
   "execution_count": 6,
   "metadata": {},
   "outputs": [],
   "source": [
    "def r_model(r0,z,a=6,b=0.6,sig=0.12,gam=2,dt=1/12):\n",
    "    rt = (1 - a * dt) * np.maximum(r0, 0) + a * b * dt + sig * np.sqrt(dt) * np.maximum(r0, 0)**gam * z\n",
    "    return rt"
   ]
  },
  {
   "cell_type": "code",
   "execution_count": 7,
   "metadata": {},
   "outputs": [],
   "source": [
    "def bond_monte_carlo(T=5,r0=0.05,a=6,b=0.6,u=1,gam=2,lam=0.3,mu=14.6,sig=3.5,D=1.8e9,FV=1,Jump=True,dt=0.005,N=10_000,seed=420):\n",
    "    M = int(T / dt)\n",
    "\n",
    "    np.random.seed(seed)\n",
    "    z = np.random.normal(size=(N,M))\n",
    "    r = np.zeros((N,M+1))\n",
    "    r[:,0] += r0\n",
    "\n",
    "    for j in range(M):\n",
    "        r[:,j+1] = r_model(r[:,j],z[:,j],a,b,u,gam,dt)\n",
    "\n",
    "    R = np.sum(r,axis=1) * dt\n",
    "\n",
    "    PD = FV * np.exp(-R)\n",
    "    PD = PD.mean()\n",
    "\n",
    "    if Jump:\n",
    "        Jt = np.random.exponential(1/T/lam, size=(N,M))\n",
    "        Jt = Jt.cumsum(axis=1)\n",
    "        column_T = np.where(Jt.min(axis=0) > T)[0][0]\n",
    "        Jt = Jt[:,:column_T]\n",
    "\n",
    "        S = np.zeros(N)\n",
    "\n",
    "        for j in range(Jt.shape[1]):\n",
    "            ind = Jt[:,j] < T\n",
    "            lnX = np.random.normal(mu,sig,size=ind.sum())\n",
    "            S[ind] += np.exp(lnX)\n",
    "        \n",
    "        \n",
    "\n",
    "        CAT_flag = np.where(S < D,1,0)\n",
    "        prob_CAT = (S>=D).sum() / N\n",
    "        CAT = FV * np.exp(-R) * CAT_flag\n",
    "        CAT = CAT.mean()\n",
    "\n",
    "        return PD,prob_CAT,CAT\n",
    "    \n",
    "    return PD"
   ]
  },
  {
   "cell_type": "code",
   "execution_count": 8,
   "metadata": {},
   "outputs": [
    {
     "data": {
      "text/plain": [
       "0.05504178668993333"
      ]
     },
     "execution_count": 8,
     "metadata": {},
     "output_type": "execute_result"
    }
   ],
   "source": [
    "PD,prob_CAT,CAT = bond_monte_carlo(u=1)\n",
    "PD"
   ]
  },
  {
   "cell_type": "code",
   "execution_count": 9,
   "metadata": {},
   "outputs": [
    {
     "data": {
      "text/plain": [
       "0.2201"
      ]
     },
     "execution_count": 9,
     "metadata": {},
     "output_type": "execute_result"
    }
   ],
   "source": [
    "prob_CAT"
   ]
  },
  {
   "cell_type": "code",
   "execution_count": 10,
   "metadata": {},
   "outputs": [
    {
     "data": {
      "text/plain": [
       "0.042958240659996795"
      ]
     },
     "execution_count": 10,
     "metadata": {},
     "output_type": "execute_result"
    }
   ],
   "source": [
    "CAT"
   ]
  },
  {
   "attachments": {},
   "cell_type": "markdown",
   "metadata": {},
   "source": [
    "# Question 3"
   ]
  },
  {
   "cell_type": "code",
   "execution_count": 22,
   "metadata": {},
   "outputs": [],
   "source": [
    "def lookback_option(K=100,S0=100,T=5,r=0.05,sig=0.35,N=100_000):\n",
    "    m = int(np.sqrt(N))\n",
    "    dt = T/m\n",
    "    mu = r - sig**2/2\n",
    "    \n",
    "    Z = np.zeros((N,m))\n",
    "    np.random.seed(420)\n",
    "    Z = np.random.normal(size=(N,m))\n",
    "\n",
    "    S = np.zeros((N,m+1))\n",
    "    S[:,0] = S0\n",
    "    S = S0 * np.exp(mu*dt + sig*np.sqrt(dt)*Z).cumprod(axis=1)\n",
    "\n",
    "    tau = np.zeros(N)\n",
    "    tau_L = np.zeros(N)\n",
    "    tau_U = np.zeros(N)\n",
    "    payoff = np.zeros(N)\n",
    "\n",
    "    for i in range(1,m):\n",
    "        t = dt * i\n",
    "\n",
    "        L = 50 * np.exp(0.138629 * t)\n",
    "        U = 200 - L\n",
    "\n",
    "        ind = (tau_L == 0) & (tau_U == 0)\n",
    "        L_ind = ind & (S[:,i] <= L)\n",
    "        U_ind = ind & (S[:,i] >= U)\n",
    "\n",
    "        tau_L[L_ind] = t\n",
    "        tau_U[U_ind] = t\n",
    "\n",
    "        tau[L_ind] = t\n",
    "        tau[U_ind] = t\n",
    "\n",
    "        payoff[L_ind] = np.maximum(K - S[L_ind,i], 0)\n",
    "        payoff[U_ind] = np.maximum(S[U_ind,i] - K, 0)\n",
    "\n",
    "    prob_exercise  = len(tau[tau>0]) / N\n",
    "    prob_U_exercise = len(tau_U[tau_U>0]) / len(tau[tau>0])\n",
    "\n",
    "    return payoff.mean(),prob_exercise,prob_U_exercise\n"
   ]
  },
  {
   "cell_type": "code",
   "execution_count": 23,
   "metadata": {},
   "outputs": [
    {
     "data": {
      "text/plain": [
       "(41.07948414604784, 1.0, 0.55576)"
      ]
     },
     "execution_count": 23,
     "metadata": {},
     "output_type": "execute_result"
    }
   ],
   "source": [
    "lookback_option()"
   ]
  },
  {
   "attachments": {},
   "cell_type": "markdown",
   "metadata": {},
   "source": [
    "# Question 4"
   ]
  },
  {
   "cell_type": "code",
   "execution_count": 13,
   "metadata": {},
   "outputs": [],
   "source": [
    "def numerix_prepayment_model(prev_r, R, PV0, prev_PV, t):\n",
    "    SG = min(1, t / 30)\n",
    "    BU = 0.3 + 0.7 * (prev_PV / PV0)\n",
    "    RI = 0.28 + 0.14 * (np.arctan(-8.57 + 430 * (R - prev_r)))\n",
    "    CPR =  RI * BU * SG\n",
    "    return CPR"
   ]
  },
  {
   "cell_type": "code",
   "execution_count": 14,
   "metadata": {},
   "outputs": [],
   "source": [
    "def MBS_pricing(PV0=1_000_000,WAC=0.064,r0=0.065,kap=5.8,r_mu=0.055,sig=1,gam=2,T=30,N=1000,dt=1/120,seed=420):\n",
    "    mortgage_rate = WAC / 12\n",
    "    M = int(T / dt)\n",
    "    div = int(1 / dt / 12)\n",
    "\n",
    "    PV = np.zeros((N,T*12+1))\n",
    "    r  = np.zeros((N,M+1))\n",
    "    PV[:,0] = PV0\n",
    "    r[:,0]  = r0\n",
    "\n",
    "    IO = np.zeros((N,T*12))\n",
    "    PO = np.zeros((N,T*12))\n",
    "\n",
    "    np.random.seed(seed)\n",
    "    z = np.random.normal(size=(N,M))\n",
    "\n",
    "    Price = np.zeros(N)\n",
    "    for t in range(M):\n",
    "        r[:,t+1] = r_model(r[:,t],z[:,t],kap,r_mu,sig,gam,dt)\n",
    "        if (t + 1) % div == 0:\n",
    "            m = int((t + 1) / div) - 1\n",
    "            IP = PV[:,m] * mortgage_rate\n",
    "            MP = IP / (1 - 1 / (1 + mortgage_rate)**(T * 12 - m + 1))\n",
    "            SP = MP - IP\n",
    "\n",
    "            zcb_price = bond_monte_carlo(10,r[:,t],kap,r_mu,sig,gam,0,0,0,0,1,False,0.5,N,seed)\n",
    "            prev_r = -np.log(zcb_price) / 10\n",
    "            CPR = numerix_prepayment_model(prev_r,WAC,PV0,PV[:,m],m+1)\n",
    "\n",
    "            SMM = 1 - (1 - CPR)**(1 / 12)\n",
    "            PP = (PV[:,m] - SP) * SMM\n",
    "            c = MP + PP\n",
    "            TPP = SP + PP\n",
    "\n",
    "            R = np.sum(r[:,:t+1],axis=1) * dt\n",
    "            d = np.exp(-R)\n",
    "\n",
    "            IO[:,m] = d * IP\n",
    "            PO[:,m] = d * TPP\n",
    "\n",
    "            Price += d * c\n",
    "            PV[:,m+1] = PV[:,m] - TPP\n",
    "\n",
    "    return Price.mean(), IO.sum(axis=1).mean(), PO.sum(axis=1).mean()"
   ]
  },
  {
   "cell_type": "code",
   "execution_count": 15,
   "metadata": {},
   "outputs": [
    {
     "data": {
      "text/plain": [
       "(1027688.3647943181, 211869.9289054259, 815818.4358888922)"
      ]
     },
     "execution_count": 15,
     "metadata": {},
     "output_type": "execute_result"
    }
   ],
   "source": [
    "MBS_pricing()"
   ]
  },
  {
   "cell_type": "code",
   "execution_count": 16,
   "metadata": {},
   "outputs": [],
   "source": [
    "def MBS_duration(eps=0.01,PV0=1_000_000,WAC=0.064,r0=0.065,kap=5.8,r_mu=0.055,sig=1,gam=2,T=30,N=1000,dt=1/120,seed=420):\n",
    "    _,IO_plus,_  = MBS_pricing(PV0,WAC+eps,r0,kap,r_mu,sig,gam,T,N,dt,seed)\n",
    "    _,IO_minus,_ = MBS_pricing(PV0,WAC-eps,r0,kap,r_mu,sig,gam,T,N,dt,seed)\n",
    "    print(IO_plus,IO_minus)\n",
    "\n",
    "    IO_duration = (IO_plus - IO_minus) / 2 / eps / PV0\n",
    "    return IO_duration"
   ]
  },
  {
   "cell_type": "code",
   "execution_count": 17,
   "metadata": {},
   "outputs": [
    {
     "name": "stdout",
     "output_type": "stream",
     "text": [
      "262062.84483832997 191506.9633403454\n",
      "254282.51141674598 187255.84958297774\n",
      "247121.4621752328 185020.4829972867\n",
      "240564.5693954499 190202.03679378785\n",
      "234620.5189020111 248809.97077051323\n",
      "229409.41817439368 305777.64288609364\n",
      "225254.57602246714 312239.62575295434\n"
     ]
    },
    {
     "data": {
      "text/html": [
       "<div>\n",
       "<style scoped>\n",
       "    .dataframe tbody tr th:only-of-type {\n",
       "        vertical-align: middle;\n",
       "    }\n",
       "\n",
       "    .dataframe tbody tr th {\n",
       "        vertical-align: top;\n",
       "    }\n",
       "\n",
       "    .dataframe thead th {\n",
       "        text-align: right;\n",
       "    }\n",
       "</style>\n",
       "<table border=\"1\" class=\"dataframe\">\n",
       "  <thead>\n",
       "    <tr style=\"text-align: right;\">\n",
       "      <th></th>\n",
       "      <th>IO Price</th>\n",
       "      <th>IO Duration</th>\n",
       "    </tr>\n",
       "    <tr>\n",
       "      <th>a</th>\n",
       "      <th></th>\n",
       "      <th></th>\n",
       "    </tr>\n",
       "  </thead>\n",
       "  <tbody>\n",
       "    <tr>\n",
       "      <th>0.03</th>\n",
       "      <td>226343.224410</td>\n",
       "      <td>3.527794</td>\n",
       "    </tr>\n",
       "    <tr>\n",
       "      <th>0.04</th>\n",
       "      <td>220001.172933</td>\n",
       "      <td>3.351333</td>\n",
       "    </tr>\n",
       "    <tr>\n",
       "      <th>0.05</th>\n",
       "      <td>214370.245150</td>\n",
       "      <td>3.105049</td>\n",
       "    </tr>\n",
       "    <tr>\n",
       "      <th>0.06</th>\n",
       "      <td>209637.595516</td>\n",
       "      <td>2.518127</td>\n",
       "    </tr>\n",
       "    <tr>\n",
       "      <th>0.07</th>\n",
       "      <td>206351.017081</td>\n",
       "      <td>-0.709473</td>\n",
       "    </tr>\n",
       "    <tr>\n",
       "      <th>0.08</th>\n",
       "      <td>207045.973336</td>\n",
       "      <td>-3.818411</td>\n",
       "    </tr>\n",
       "    <tr>\n",
       "      <th>0.09</th>\n",
       "      <td>231534.799038</td>\n",
       "      <td>-4.349252</td>\n",
       "    </tr>\n",
       "  </tbody>\n",
       "</table>\n",
       "</div>"
      ],
      "text/plain": [
       "           IO Price  IO Duration\n",
       "a                               \n",
       "0.03  226343.224410     3.527794\n",
       "0.04  220001.172933     3.351333\n",
       "0.05  214370.245150     3.105049\n",
       "0.06  209637.595516     2.518127\n",
       "0.07  206351.017081    -0.709473\n",
       "0.08  207045.973336    -3.818411\n",
       "0.09  231534.799038    -4.349252"
      ]
     },
     "execution_count": 17,
     "metadata": {},
     "output_type": "execute_result"
    }
   ],
   "source": [
    "data = []\n",
    "for a in np.linspace(0.03,0.09,7):\n",
    "    res  = {'a': a}\n",
    "    _,IO,_ = MBS_pricing(r_mu=a)\n",
    "    IO_duration = MBS_duration(r_mu=a)\n",
    "    res['IO Price'] = IO\n",
    "    res['IO Duration'] = IO_duration\n",
    "    data.append(res)\n",
    "df = pd.DataFrame(data)\n",
    "df.set_index('a',inplace=True)\n",
    "df"
   ]
  },
  {
   "cell_type": "code",
   "execution_count": 18,
   "metadata": {},
   "outputs": [
    {
     "name": "stdout",
     "output_type": "stream",
     "text": [
      "[NbConvertApp] Converting notebook MFE405_Final.ipynb to script\n",
      "[NbConvertApp] Writing 6723 bytes to MFE405_Final.py\n"
     ]
    }
   ],
   "source": [
    "!jupyter nbconvert --to script MFE405_Final.ipynb"
   ]
  },
  {
   "cell_type": "code",
   "execution_count": null,
   "metadata": {},
   "outputs": [],
   "source": []
  }
 ],
 "metadata": {
  "kernelspec": {
   "display_name": "Python 3 (ipykernel)",
   "language": "python",
   "name": "python3"
  },
  "language_info": {
   "codemirror_mode": {
    "name": "ipython",
    "version": 3
   },
   "file_extension": ".py",
   "mimetype": "text/x-python",
   "name": "python",
   "nbconvert_exporter": "python",
   "pygments_lexer": "ipython3",
   "version": "3.11.7"
  }
 },
 "nbformat": 4,
 "nbformat_minor": 4
}
